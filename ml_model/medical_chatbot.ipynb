{
    "cells": [
        {
            "cell_type": "markdown",
            "id": "09d8e53f",
            "metadata": {},
            "source": [
                "# Medical Chatbot: trying to use the RAG method using a pdf file"
            ]
        },
        {
            "cell_type": "code",
            "execution_count": 1,
            "id": "93b0562a-bcd1-4868-9569-c1ddf693286d",
            "metadata": {},
            "outputs": [],
            "source": [
                "import pinecone\n",
                "from langchain import PromptTemplate\n",
                "from langchain.chains import RetrievalQA\n",
                "from langchain.embeddings import HuggingFaceEmbeddings\n",
                "from langchain.vectorstores import Pinecone\n",
                "from langchain.document_loaders import PyPDFLoader, DirectoryLoader\n",
                "from langchain.text_splitter import RecursiveCharacterTextSplitter\n",
                "from langchain.prompts import PromptTemplate\n",
                "from langchain.llms import CTransformers\n"
            ]
        },
        {
            "cell_type": "code",
            "execution_count": 3,
            "id": "a9060bac-ba54-4f43-b669-7b175c83adaa",
            "metadata": {},
            "outputs": [],
            "source": [
                "PINECONE_API_KEY = \"038f965a-07af-486e-ab43-d1b21f18a91d\"\n",
                "PINECONE_API_ENV = \"gcp-starter\"\n",
                "import os\n",
                "os.environ['PINECONE_API_KEY'] = '038f965a-07af-486e-ab43-d1b21f18a91d'"
            ]
        },
        {
            "cell_type": "code",
            "execution_count": 5,
            "id": "2c2e3184-9164-49f6-9d08-b1138c8f127d",
            "metadata": {},
            "outputs": [],
            "source": [
                "#Extract data from the PDF\n",
                "def load_pdf(data):\n",
                "    loader = DirectoryLoader(data,\n",
                "                    glob=\"*.pdf\",\n",
                "                    loader_cls=PyPDFLoader)\n",
                "    \n",
                "    documents = loader.load()\n",
                "\n",
                "    return documents"
            ]
        },
        {
            "cell_type": "code",
            "execution_count": 7,
            "id": "aaffc016-2f5d-4b58-af7b-cce9eded5fc9",
            "metadata": {},
            "outputs": [],
            "source": [
                "extracted_data = load_pdf(\"data/\")"
            ]
        },
        {
            "cell_type": "code",
            "execution_count": 15,
            "id": "a3e15c2b-c380-47be-b3e2-2a85be62b76e",
            "metadata": {},
            "outputs": [],
            "source": [
                "#Create text chunks\n",
                "def text_split(extracted_data):\n",
                "    text_splitter = RecursiveCharacterTextSplitter(chunk_size = 500, chunk_overlap = 20)\n",
                "    text_chunks = text_splitter.split_documents(extracted_data)\n",
                "\n",
                "    return text_chunks"
            ]
        },
        {
            "cell_type": "code",
            "execution_count": 17,
            "id": "7d30288f-0286-49dc-8961-a7e0538e4241",
            "metadata": {},
            "outputs": [
                {
                    "name": "stdout",
                    "output_type": "stream",
                    "text": [
                        "length of my chunk: 7020\n"
                    ]
                }
            ],
            "source": [
                "text_chunks = text_split(extracted_data)\n",
                "print(\"length of my chunk:\", len(text_chunks))"
            ]
        },
        {
            "cell_type": "code",
            "execution_count": 19,
            "id": "97275c7c-4ab0-4d5f-aef6-7605c88d9362",
            "metadata": {},
            "outputs": [],
            "source": [
                "#download embedding model\n",
                "def download_hugging_face_embeddings():\n",
                "    embeddings = HuggingFaceEmbeddings(model_name=\"sentence-transformers/all-MiniLM-L6-v2\")\n",
                "    return embeddings"
            ]
        },
        {
            "cell_type": "code",
            "execution_count": 21,
            "id": "6cbd416f-512d-4fa4-94c9-7474aaa02a37",
            "metadata": {},
            "outputs": [
                {
                    "name": "stderr",
                    "output_type": "stream",
                    "text": [
                        "C:\\Users\\hamza\\AppData\\Roaming\\Python\\Python312\\site-packages\\langchain_core\\_api\\deprecation.py:139: LangChainDeprecationWarning: The class `HuggingFaceEmbeddings` was deprecated in LangChain 0.2.2 and will be removed in 0.3.0. An updated version of the class exists in the langchain-huggingface package and should be used instead. To use it run `pip install -U langchain-huggingface` and import as `from langchain_huggingface import HuggingFaceEmbeddings`.\n",
                        "  warn_deprecated(\n"
                    ]
                }
            ],
            "source": [
                "embeddings = download_hugging_face_embeddings()"
            ]
        },
        {
            "cell_type": "code",
            "execution_count": 23,
            "id": "2acef705-0b2b-41a5-ac0b-0cfe3b56683c",
            "metadata": {},
            "outputs": [
                {
                    "data": {
                        "text/plain": [
                            "HuggingFaceEmbeddings(client=SentenceTransformer(\n",
                            "  (0): Transformer({'max_seq_length': 256, 'do_lower_case': False}) with Transformer model: BertModel \n",
                            "  (1): Pooling({'word_embedding_dimension': 384, 'pooling_mode_cls_token': False, 'pooling_mode_mean_tokens': True, 'pooling_mode_max_tokens': False, 'pooling_mode_mean_sqrt_len_tokens': False})\n",
                            "  (2): Normalize()\n",
                            "), model_name='sentence-transformers/all-MiniLM-L6-v2', cache_folder=None, model_kwargs={}, encode_kwargs={}, multi_process=False, show_progress=False)"
                        ]
                    },
                    "execution_count": 23,
                    "metadata": {},
                    "output_type": "execute_result"
                }
            ],
            "source": [
                "embeddings"
            ]
        },
        {
            "cell_type": "code",
            "execution_count": 25,
            "id": "e601c1b2-a28d-4724-950a-bf810a4c0df8",
            "metadata": {},
            "outputs": [
                {
                    "name": "stdout",
                    "output_type": "stream",
                    "text": [
                        "Length 384\n"
                    ]
                }
            ],
            "source": [
                "query_result = embeddings.embed_query(\"Hello world\")\n",
                "print(\"Length\", len(query_result))"
            ]
        },
        {
            "cell_type": "code",
            "execution_count": 27,
            "id": "c7110e52-382b-4430-b74c-4e071785672c",
            "metadata": {},
            "outputs": [],
            "source": [
                "from langchain_pinecone import PineconeVectorStore\n",
                "\n",
                "#Initializing the Pinecone\n",
                "pc = pinecone.Pinecone(api_key=PINECONE_API_KEY,\n",
                "              environment=PINECONE_API_ENV)\n",
                "\n"
            ]
        },
        {
            "cell_type": "code",
            "execution_count": 29,
            "id": "3a272d2d-2812-4be4-9942-9aec6bd68f68",
            "metadata": {},
            "outputs": [],
            "source": [
                "index_name=\"chatbot\"\n",
                "vectorstore_from_texts = PineconeVectorStore.from_texts(\n",
                "        [t.page_content for t in text_chunks],\n",
                "        index_name=index_name,\n",
                "        embedding=embeddings\n",
                "    )\n",
                "#Creating Embeddings for Each of The Text Chunks & storing"
            ]
        },
        {
            "cell_type": "code",
            "execution_count": 34,
            "id": "103ba0cc-7ffd-4c82-b801-e936030960a3",
            "metadata": {},
            "outputs": [
                {
                    "data": {
                        "text/plain": [
                            "HuggingFaceEmbeddings(client=SentenceTransformer(\n",
                            "  (0): Transformer({'max_seq_length': 256, 'do_lower_case': False}) with Transformer model: BertModel \n",
                            "  (1): Pooling({'word_embedding_dimension': 384, 'pooling_mode_cls_token': False, 'pooling_mode_mean_tokens': True, 'pooling_mode_max_tokens': False, 'pooling_mode_mean_sqrt_len_tokens': False})\n",
                            "  (2): Normalize()\n",
                            "), model_name='sentence-transformers/all-MiniLM-L6-v2', cache_folder=None, model_kwargs={}, encode_kwargs={}, multi_process=False, show_progress=False)"
                        ]
                    },
                    "execution_count": 34,
                    "metadata": {},
                    "output_type": "execute_result"
                }
            ],
            "source": [
                "embeddings"
            ]
        },
        {
            "cell_type": "code",
            "execution_count": 31,
            "id": "0b706b04-8f23-4ff1-8cc9-c9e0c49f1727",
            "metadata": {},
            "outputs": [
                {
                    "name": "stdout",
                    "output_type": "stream",
                    "text": [
                        "Result [Document(page_content=\"GALE ENCYCLOPEDIA OF MEDICINE 2 117Allergies\\nAllergic rhinitis is commonly triggered by\\nexposure to household dust, animal fur,or pollen. The foreign substance thattriggers an allergic reaction is calledan allergen.\\nThe presence of an allergen causes the\\nbody's lymphocytes to begin producingIgE antibodies. The lymphocytes of an allergy sufferer produce an unusuallylarge amount of IgE.\\nIgE molecules attach to mast\\ncells, which contain histamine.HistaminePollen grains\\nLymphocyte\\nFIRST EXPOSURE\"), Document(page_content=\"GALE ENCYCLOPEDIA OF MEDICINE 2 117Allergies\\nAllergic rhinitis is commonly triggered by\\nexposure to household dust, animal fur,or pollen. The foreign substance thattriggers an allergic reaction is calledan allergen.\\nThe presence of an allergen causes the\\nbody's lymphocytes to begin producingIgE antibodies. The lymphocytes of an allergy sufferer produce an unusuallylarge amount of IgE.\\nIgE molecules attach to mast\\ncells, which contain histamine.HistaminePollen grains\\nLymphocyte\\nFIRST EXPOSURE\"), Document(page_content=\"GALE ENCYCLOPEDIA OF MEDICINE 2 117Allergies\\nAllergic rhinitis is commonly triggered by\\nexposure to household dust, animal fur,or pollen. The foreign substance thattriggers an allergic reaction is calledan allergen.\\nThe presence of an allergen causes the\\nbody's lymphocytes to begin producingIgE antibodies. The lymphocytes of an allergy sufferer produce an unusuallylarge amount of IgE.\\nIgE molecules attach to mast\\ncells, which contain histamine.HistaminePollen grains\\nLymphocyte\\nFIRST EXPOSURE\")]\n"
                    ]
                }
            ],
            "source": [
                "#If we already have an index we can load it like this\n",
                "# docsearch=Pinecone.from_existing_index(index_name, embeddings)\n",
                "\n",
                "query = \"What are Allergies\"\n",
                "\n",
                "docs=vectorstore_from_texts.similarity_search(query, k=3)\n",
                "\n",
                "print(\"Result\", docs)"
            ]
        },
        {
            "cell_type": "code",
            "execution_count": 33,
            "id": "9e6bc80e-b755-495d-8482-af4b24ef8248",
            "metadata": {},
            "outputs": [],
            "source": [
                "prompt_template=\"\"\"\n",
                "Use the following pieces of information to answer the user's question.\n",
                "If you don't know the answer, just say that you don't know, don't try to make up an answer.\n",
                "\n",
                "Context: {context}\n",
                "Question: {question}\n",
                "\n",
                "Only return the helpful answer below and nothing else.\n",
                "Helpful answer:\n",
                "\"\"\""
            ]
        },
        {
            "cell_type": "code",
            "execution_count": 35,
            "id": "ece1d9e8-3210-41be-9f49-8b27862c4afe",
            "metadata": {},
            "outputs": [],
            "source": [
                "PROMPT=PromptTemplate(template=prompt_template, input_variables=[\"context\", \"question\"])\n",
                "chain_type_kwargs={\"prompt\": PROMPT}"
            ]
        },
        {
            "cell_type": "code",
            "execution_count": 37,
            "id": "17e684d9-af3a-455c-853c-35b46e163c3f",
            "metadata": {},
            "outputs": [],
            "source": [
                "llm=CTransformers(model=\"model/llama-2-7b-chat.ggmlv3.q4_0.bin\",\n",
                "                  model_type=\"llama\",\n",
                "                  config={'max_new_tokens':512,\n",
                "                          'temperature':0.8})"
            ]
        },
        {
            "cell_type": "code",
            "execution_count": 39,
            "id": "4a4b1ca9-41b2-4b41-9c84-7a1572363ce6",
            "metadata": {},
            "outputs": [],
            "source": [
                "qa=RetrievalQA.from_chain_type(\n",
                "    llm=llm, \n",
                "    chain_type=\"stuff\", \n",
                "    retriever=vectorstore_from_texts.as_retriever(search_kwargs={'k': 2}),\n",
                "    return_source_documents=True, \n",
                "    chain_type_kwargs=chain_type_kwargs)"
            ]
        },
        {
            "cell_type": "code",
            "execution_count": 41,
            "id": "90f55a4a-b412-4565-b00b-8577b2027c90",
            "metadata": {},
            "outputs": [
                {
                    "name": "stdout",
                    "output_type": "stream",
                    "text": [
                        "Input Prompt: what is acne\n"
                    ]
                },
                {
                    "name": "stderr",
                    "output_type": "stream",
                    "text": [
                        "C:\\Users\\hamza\\AppData\\Roaming\\Python\\Python312\\site-packages\\langchain_core\\_api\\deprecation.py:139: LangChainDeprecationWarning: The method `Chain.__call__` was deprecated in langchain 0.1.0 and will be removed in 0.3.0. Use invoke instead.\n",
                        "  warn_deprecated(\n"
                    ]
                },
                {
                    "name": "stdout",
                    "output_type": "stream",
                    "text": [
                        "Response :  Acne is a common skin disease characterized by pimples on the face, chest, and back. It occurs when the pores of the skin become clogged with oil, dead skin cells, and bacteria.\n"
                    ]
                },
                {
                    "name": "stdout",
                    "output_type": "stream",
                    "text": [
                        "Input Prompt: Patient de 36 ans, atcd : 0  consulte pour épistaxis abondant à répétition  Bilan déjà fait  NFS : RAS TP : 83 %  TCK  rdv orl\n"
                    ]
                }
            ],
            "source": [
                "while True:\n",
                "    user_input=input(f\"Input Prompt:\")\n",
                "    result=qa({\"query\": user_input})\n",
                "    print(\"Response : \", result[\"result\"])"
            ]
        }
    ],
    "metadata": {
        "kernelspec": {
            "display_name": "Python 3 (ipykernel)",
            "language": "python",
            "name": "python3"
        },
        "language_info": {
            "codemirror_mode": {
                "name": "ipython",
                "version": 3
            },
            "file_extension": ".py",
            "mimetype": "text/x-python",
            "name": "python",
            "nbconvert_exporter": "python",
            "pygments_lexer": "ipython3",
            "version": "3.12.4"
        }
    },
    "nbformat": 4,
    "nbformat_minor": 5
}
