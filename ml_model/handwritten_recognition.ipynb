{
    "cells": [
        {
            "cell_type": "markdown",
            "metadata": {},
            "source": [
                "# Handwritten Letter or Digit Recognition Model using EMNIST"
            ]
        },
        {
            "cell_type": "markdown",
            "metadata": {},
            "source": [
                "This notebook demonstrates how to build, train, and save a handwritten letter recognition model using the EMNIST dataset."
            ]
        },
        {
            "cell_type": "markdown",
            "metadata": {},
            "source": [
                "## Step 1: Import Required Libraries"
            ]
        },
        {
            "cell_type": "code",
            "execution_count": 1,
            "metadata": {},
            "outputs": [],
            "source": [
                "import numpy as np\n",
                "from tensorflow.keras.utils import to_categorical\n",
                "import matplotlib.pyplot as plt"
            ]
        },
        {
            "cell_type": "markdown",
            "metadata": {},
            "source": [
                "## Step 2: Load the EMNIST Dataset"
            ]
        },
        {
            "cell_type": "code",
            "execution_count": 2,
            "metadata": {},
            "outputs": [],
            "source": [
                "# Load EMNIST dataset\n",
                "from emnist import extract_training_samples, extract_test_samples\n",
                "\n",
                "# Use 'byclass' to include all 62 classes (digits, uppercase, and lowercase letters)\n",
                "x_train, y_train = extract_training_samples('byclass')\n",
                "x_test, y_test = extract_test_samples('byclass')\n",
                "\n",
                "# Reshape and normalize the data\n",
                "x_train = x_train.reshape((x_train.shape[0], 28, 28, 1)).astype('float32') / 255\n",
                "x_test = x_test.reshape((x_test.shape[0], 28, 28, 1)).astype('float32') / 255\n",
                "\n",
                "# Adjust labels to be zero-indexed (0 to 61)\n",
                "y_train = y_train - 1\n",
                "y_test = y_test - 1\n",
                "\n",
                "# Ensure all labels are within the valid range (0 to 61)\n",
                "y_train = np.clip(y_train, 0, 61)\n",
                "y_test = np.clip(y_test, 0, 61)\n",
                "\n",
                "# Convert labels to one-hot encoding\n",
                "num_classes = 62  # EMNIST 'byclass' has 62 classes (0-9, A-Z, a-z)\n",
                "y_train = to_categorical(y_train, num_classes)\n",
                "y_test = to_categorical(y_test, num_classes)"
            ]
        },
        {
            "cell_type": "markdown",
            "metadata": {},
            "source": [
                "## Step 3: Data Augmentation"
            ]
        },
        {
            "cell_type": "code",
            "execution_count": 3,
            "metadata": {},
            "outputs": [],
            "source": [
                "from tensorflow.keras.preprocessing.image import ImageDataGenerator\n",
                "\n",
                "datagen = ImageDataGenerator(\n",
                "    rotation_range=10,       # Randomly rotate images by up to 10 degrees\n",
                "    width_shift_range=0.1,   # Randomly shift images horizontally by up to 10% of the width\n",
                "    height_shift_range=0.1,  # Randomly shift images vertically by up to 10% of the height\n",
                "    zoom_range=0.1,          # Randomly zoom in/out on images by up to 10%\n",
                "    shear_range=0.1,         # Apply shear transformations (optional)\n",
                "    horizontal_flip=False,   # Do not flip images horizontally (since letters are not symmetric)\n",
                "    vertical_flip=False,     # Do not flip images vertically (since letters are not symmetric)\n",
                "    fill_mode='nearest'      # Fill in missing pixels with the nearest value\n",
                ")\n",
                "\n",
                "datagen.fit(x_train)"
            ]
        },
        {
            "cell_type": "markdown",
            "metadata": {},
            "source": [
                "## Step 4: Build the Model"
            ]
        },
        {
            "cell_type": "code",
            "execution_count": 4,
            "metadata": {},
            "outputs": [
                {
                    "name": "stderr",
                    "output_type": "stream",
                    "text": [
                        "c:\\Users\\lzyah\\OneDrive\\Documents\\GitHub\\scan-ai\\.venv\\Lib\\site-packages\\keras\\src\\layers\\convolutional\\base_conv.py:107: UserWarning: Do not pass an `input_shape`/`input_dim` argument to a layer. When using Sequential models, prefer using an `Input(shape)` object as the first layer in the model instead.\n",
                        "  super().__init__(activity_regularizer=activity_regularizer, **kwargs)\n"
                    ]
                }
            ],
            "source": [
                "from tensorflow.keras import models, layers\n",
                "from tensorflow.keras.optimizers import Adam\n",
                "from tensorflow.keras.callbacks import LearningRateScheduler\n",
                "\n",
                "# Define the model\n",
                "model = models.Sequential([\n",
                "    # First convolutional block\n",
                "    layers.Conv2D(32, (3, 3), activation='relu', input_shape=(28, 28, 1), padding='same'),\n",
                "    layers.BatchNormalization(),\n",
                "    layers.MaxPooling2D((2, 2)),\n",
                "    layers.Dropout(0.25),\n",
                "\n",
                "    # Second convolutional block\n",
                "    layers.Conv2D(64, (3, 3), activation='relu', padding='same'),\n",
                "    layers.BatchNormalization(),\n",
                "    layers.MaxPooling2D((2, 2)),\n",
                "    layers.Dropout(0.25),\n",
                "\n",
                "    # Third convolutional block\n",
                "    layers.Conv2D(128, (3, 3), activation='relu', padding='same'),\n",
                "    layers.BatchNormalization(),\n",
                "    layers.MaxPooling2D((2, 2)),\n",
                "    layers.Dropout(0.25),\n",
                "\n",
                "    # Flatten the output\n",
                "    layers.Flatten(),\n",
                "\n",
                "    # Fully connected layers\n",
                "    layers.Dense(256, activation='relu'),\n",
                "    layers.BatchNormalization(),\n",
                "    layers.Dropout(0.5),\n",
                "\n",
                "    # Output layer\n",
                "    layers.Dense(num_classes, activation='softmax')\n",
                "])\n",
                "\n",
                "# Learning rate scheduler\n",
                "def lr_scheduler(epoch, lr):\n",
                "    if epoch < 10:\n",
                "        return lr\n",
                "    else:\n",
                "        return lr * 0.1\n",
                "\n",
                "# Compile the model\n",
                "model.compile(optimizer=Adam(learning_rate=0.001),\n",
                "              loss='categorical_crossentropy',\n",
                "              metrics=['accuracy'])\n",
                "\n",
                "# Add learning rate scheduler callback\n",
                "lr_callback = LearningRateScheduler(lr_scheduler)"
            ]
        },
        {
            "cell_type": "markdown",
            "metadata": {},
            "source": [
                "## Step 5: Train the Model"
            ]
        },
        {
            "cell_type": "code",
            "execution_count": 5,
            "metadata": {},
            "outputs": [
                {
                    "name": "stderr",
                    "output_type": "stream",
                    "text": [
                        "c:\\Users\\lzyah\\OneDrive\\Documents\\GitHub\\scan-ai\\.venv\\Lib\\site-packages\\keras\\src\\trainers\\data_adapters\\py_dataset_adapter.py:121: UserWarning: Your `PyDataset` class should call `super().__init__(**kwargs)` in its constructor. `**kwargs` can include `workers`, `use_multiprocessing`, `max_queue_size`. Do not pass these arguments to `fit()`, as they will be ignored.\n",
                        "  self._warn_if_super_not_called()\n"
                    ]
                },
                {
                    "name": "stdout",
                    "output_type": "stream",
                    "text": [
                        "Epoch 1/30\n",
                        "\u001b[1m5453/5453\u001b[0m \u001b[32m━━━━━━━━━━━━━━━━━━━━\u001b[0m\u001b[37m\u001b[0m \u001b[1m486s\u001b[0m 89ms/step - accuracy: 0.7002 - loss: 1.0411 - val_accuracy: 0.8538 - val_loss: 0.4005 - learning_rate: 0.0010\n",
                        "Epoch 2/30\n",
                        "\u001b[1m5453/5453\u001b[0m \u001b[32m━━━━━━━━━━━━━━━━━━━━\u001b[0m\u001b[37m\u001b[0m \u001b[1m471s\u001b[0m 86ms/step - accuracy: 0.8222 - loss: 0.5110 - val_accuracy: 0.8586 - val_loss: 0.3848 - learning_rate: 0.0010\n",
                        "Epoch 3/30\n",
                        "\u001b[1m5453/5453\u001b[0m \u001b[32m━━━━━━━━━━━━━━━━━━━━\u001b[0m\u001b[37m\u001b[0m \u001b[1m468s\u001b[0m 86ms/step - accuracy: 0.8329 - loss: 0.4757 - val_accuracy: 0.8641 - val_loss: 0.3663 - learning_rate: 0.0010\n",
                        "Epoch 4/30\n",
                        "\u001b[1m5453/5453\u001b[0m \u001b[32m━━━━━━━━━━━━━━━━━━━━\u001b[0m\u001b[37m\u001b[0m \u001b[1m471s\u001b[0m 86ms/step - accuracy: 0.8379 - loss: 0.4604 - val_accuracy: 0.8604 - val_loss: 0.3708 - learning_rate: 0.0010\n",
                        "Epoch 5/30\n",
                        "\u001b[1m5453/5453\u001b[0m \u001b[32m━━━━━━━━━━━━━━━━━━━━\u001b[0m\u001b[37m\u001b[0m \u001b[1m487s\u001b[0m 89ms/step - accuracy: 0.8405 - loss: 0.4472 - val_accuracy: 0.8631 - val_loss: 0.3667 - learning_rate: 0.0010\n",
                        "Epoch 6/30\n",
                        "\u001b[1m5453/5453\u001b[0m \u001b[32m━━━━━━━━━━━━━━━━━━━━\u001b[0m\u001b[37m\u001b[0m \u001b[1m470s\u001b[0m 86ms/step - accuracy: 0.8435 - loss: 0.4383 - val_accuracy: 0.8634 - val_loss: 0.3644 - learning_rate: 0.0010\n",
                        "Epoch 7/30\n",
                        "\u001b[1m5453/5453\u001b[0m \u001b[32m━━━━━━━━━━━━━━━━━━━━\u001b[0m\u001b[37m\u001b[0m \u001b[1m471s\u001b[0m 86ms/step - accuracy: 0.8446 - loss: 0.4337 - val_accuracy: 0.8680 - val_loss: 0.3549 - learning_rate: 0.0010\n",
                        "Epoch 8/30\n",
                        "\u001b[1m5453/5453\u001b[0m \u001b[32m━━━━━━━━━━━━━━━━━━━━\u001b[0m\u001b[37m\u001b[0m \u001b[1m475s\u001b[0m 87ms/step - accuracy: 0.8466 - loss: 0.4282 - val_accuracy: 0.8666 - val_loss: 0.3566 - learning_rate: 0.0010\n",
                        "Epoch 9/30\n",
                        "\u001b[1m5453/5453\u001b[0m \u001b[32m━━━━━━━━━━━━━━━━━━━━\u001b[0m\u001b[37m\u001b[0m \u001b[1m470s\u001b[0m 86ms/step - accuracy: 0.8472 - loss: 0.4247 - val_accuracy: 0.8625 - val_loss: 0.3615 - learning_rate: 0.0010\n",
                        "Epoch 10/30\n",
                        "\u001b[1m5453/5453\u001b[0m \u001b[32m━━━━━━━━━━━━━━━━━━━━\u001b[0m\u001b[37m\u001b[0m \u001b[1m476s\u001b[0m 87ms/step - accuracy: 0.8483 - loss: 0.4213 - val_accuracy: 0.8643 - val_loss: 0.3541 - learning_rate: 0.0010\n",
                        "Epoch 11/30\n",
                        "\u001b[1m5453/5453\u001b[0m \u001b[32m━━━━━━━━━━━━━━━━━━━━\u001b[0m\u001b[37m\u001b[0m \u001b[1m505s\u001b[0m 93ms/step - accuracy: 0.8518 - loss: 0.4113 - val_accuracy: 0.8689 - val_loss: 0.3465 - learning_rate: 1.0000e-04\n",
                        "Epoch 12/30\n",
                        "\u001b[1m5453/5453\u001b[0m \u001b[32m━━━━━━━━━━━━━━━━━━━━\u001b[0m\u001b[37m\u001b[0m \u001b[1m518s\u001b[0m 95ms/step - accuracy: 0.8531 - loss: 0.4060 - val_accuracy: 0.8683 - val_loss: 0.3477 - learning_rate: 1.0000e-05\n",
                        "Epoch 13/30\n",
                        "\u001b[1m5453/5453\u001b[0m \u001b[32m━━━━━━━━━━━━━━━━━━━━\u001b[0m\u001b[37m\u001b[0m \u001b[1m501s\u001b[0m 92ms/step - accuracy: 0.8541 - loss: 0.4049 - val_accuracy: 0.8686 - val_loss: 0.3474 - learning_rate: 1.0000e-06\n",
                        "Epoch 14/30\n",
                        "\u001b[1m5453/5453\u001b[0m \u001b[32m━━━━━━━━━━━━━━━━━━━━\u001b[0m\u001b[37m\u001b[0m \u001b[1m528s\u001b[0m 97ms/step - accuracy: 0.8543 - loss: 0.4034 - val_accuracy: 0.8682 - val_loss: 0.3480 - learning_rate: 1.0000e-07\n",
                        "Epoch 15/30\n",
                        "\u001b[1m5453/5453\u001b[0m \u001b[32m━━━━━━━━━━━━━━━━━━━━\u001b[0m\u001b[37m\u001b[0m \u001b[1m522s\u001b[0m 96ms/step - accuracy: 0.8531 - loss: 0.4053 - val_accuracy: 0.8684 - val_loss: 0.3476 - learning_rate: 1.0000e-08\n",
                        "Epoch 16/30\n",
                        "\u001b[1m5453/5453\u001b[0m \u001b[32m━━━━━━━━━━━━━━━━━━━━\u001b[0m\u001b[37m\u001b[0m \u001b[1m533s\u001b[0m 98ms/step - accuracy: 0.8533 - loss: 0.4058 - val_accuracy: 0.8683 - val_loss: 0.3477 - learning_rate: 1.0000e-09\n",
                        "Epoch 17/30\n",
                        "\u001b[1m5453/5453\u001b[0m \u001b[32m━━━━━━━━━━━━━━━━━━━━\u001b[0m\u001b[37m\u001b[0m \u001b[1m506s\u001b[0m 93ms/step - accuracy: 0.8532 - loss: 0.4052 - val_accuracy: 0.8685 - val_loss: 0.3476 - learning_rate: 1.0000e-10\n",
                        "Epoch 18/30\n",
                        "\u001b[1m5453/5453\u001b[0m \u001b[32m━━━━━━━━━━━━━━━━━━━━\u001b[0m\u001b[37m\u001b[0m \u001b[1m551s\u001b[0m 101ms/step - accuracy: 0.8544 - loss: 0.4035 - val_accuracy: 0.8684 - val_loss: 0.3476 - learning_rate: 1.0000e-11\n",
                        "Epoch 19/30\n",
                        "\u001b[1m5453/5453\u001b[0m \u001b[32m━━━━━━━━━━━━━━━━━━━━\u001b[0m\u001b[37m\u001b[0m \u001b[1m497s\u001b[0m 91ms/step - accuracy: 0.8543 - loss: 0.4029 - val_accuracy: 0.8682 - val_loss: 0.3480 - learning_rate: 1.0000e-12\n",
                        "Epoch 20/30\n",
                        "\u001b[1m5453/5453\u001b[0m \u001b[32m━━━━━━━━━━━━━━━━━━━━\u001b[0m\u001b[37m\u001b[0m \u001b[1m484s\u001b[0m 89ms/step - accuracy: 0.8539 - loss: 0.4037 - val_accuracy: 0.8682 - val_loss: 0.3478 - learning_rate: 1.0000e-13\n",
                        "Epoch 21/30\n",
                        "\u001b[1m5453/5453\u001b[0m \u001b[32m━━━━━━━━━━━━━━━━━━━━\u001b[0m\u001b[37m\u001b[0m \u001b[1m601s\u001b[0m 110ms/step - accuracy: 0.8534 - loss: 0.4060 - val_accuracy: 0.8683 - val_loss: 0.3480 - learning_rate: 1.0000e-14\n",
                        "Epoch 22/30\n",
                        "\u001b[1m5453/5453\u001b[0m \u001b[32m━━━━━━━━━━━━━━━━━━━━\u001b[0m\u001b[37m\u001b[0m \u001b[1m624s\u001b[0m 114ms/step - accuracy: 0.8528 - loss: 0.4060 - val_accuracy: 0.8684 - val_loss: 0.3476 - learning_rate: 1.0000e-15\n",
                        "Epoch 23/30\n",
                        "\u001b[1m5453/5453\u001b[0m \u001b[32m━━━━━━━━━━━━━━━━━━━━\u001b[0m\u001b[37m\u001b[0m \u001b[1m747s\u001b[0m 137ms/step - accuracy: 0.8545 - loss: 0.4027 - val_accuracy: 0.8684 - val_loss: 0.3476 - learning_rate: 1.0000e-16\n",
                        "Epoch 24/30\n",
                        "\u001b[1m5453/5453\u001b[0m \u001b[32m━━━━━━━━━━━━━━━━━━━━\u001b[0m\u001b[37m\u001b[0m \u001b[1m775s\u001b[0m 142ms/step - accuracy: 0.8540 - loss: 0.4042 - val_accuracy: 0.8683 - val_loss: 0.3477 - learning_rate: 1.0000e-17\n",
                        "Epoch 25/30\n",
                        "\u001b[1m5453/5453\u001b[0m \u001b[32m━━━━━━━━━━━━━━━━━━━━\u001b[0m\u001b[37m\u001b[0m \u001b[1m792s\u001b[0m 145ms/step - accuracy: 0.8542 - loss: 0.4036 - val_accuracy: 0.8683 - val_loss: 0.3477 - learning_rate: 1.0000e-18\n",
                        "Epoch 26/30\n",
                        "\u001b[1m5453/5453\u001b[0m \u001b[32m━━━━━━━━━━━━━━━━━━━━\u001b[0m\u001b[37m\u001b[0m \u001b[1m803s\u001b[0m 147ms/step - accuracy: 0.8540 - loss: 0.4040 - val_accuracy: 0.8683 - val_loss: 0.3477 - learning_rate: 1.0000e-19\n",
                        "Epoch 27/30\n",
                        "\u001b[1m5453/5453\u001b[0m \u001b[32m━━━━━━━━━━━━━━━━━━━━\u001b[0m\u001b[37m\u001b[0m \u001b[1m696s\u001b[0m 128ms/step - accuracy: 0.8536 - loss: 0.4050 - val_accuracy: 0.8684 - val_loss: 0.3475 - learning_rate: 1.0000e-20\n",
                        "Epoch 28/30\n",
                        "\u001b[1m5453/5453\u001b[0m \u001b[32m━━━━━━━━━━━━━━━━━━━━\u001b[0m\u001b[37m\u001b[0m \u001b[1m757s\u001b[0m 139ms/step - accuracy: 0.8530 - loss: 0.4059 - val_accuracy: 0.8683 - val_loss: 0.3477 - learning_rate: 1.0000e-21\n",
                        "Epoch 29/30\n",
                        "\u001b[1m5453/5453\u001b[0m \u001b[32m━━━━━━━━━━━━━━━━━━━━\u001b[0m\u001b[37m\u001b[0m \u001b[1m753s\u001b[0m 138ms/step - accuracy: 0.8532 - loss: 0.4053 - val_accuracy: 0.8683 - val_loss: 0.3477 - learning_rate: 1.0000e-22\n",
                        "Epoch 30/30\n",
                        "\u001b[1m5453/5453\u001b[0m \u001b[32m━━━━━━━━━━━━━━━━━━━━\u001b[0m\u001b[37m\u001b[0m \u001b[1m604s\u001b[0m 111ms/step - accuracy: 0.8533 - loss: 0.4043 - val_accuracy: 0.8683 - val_loss: 0.3476 - learning_rate: 1.0000e-23\n"
                    ]
                }
            ],
            "source": [
                "history = model.fit(datagen.flow(x_train, y_train, batch_size=128),\n",
                "                    epochs=30,\n",
                "                    validation_data=(x_test, y_test),\n",
                "                    callbacks=[lr_callback])"
            ]
        },
        {
            "cell_type": "markdown",
            "metadata": {},
            "source": [
                "## Step 6: Evaluate the Model"
            ]
        },
        {
            "cell_type": "code",
            "execution_count": 6,
            "metadata": {},
            "outputs": [
                {
                    "name": "stdout",
                    "output_type": "stream",
                    "text": [
                        "\u001b[1m3636/3636\u001b[0m \u001b[32m━━━━━━━━━━━━━━━━━━━━\u001b[0m\u001b[37m\u001b[0m \u001b[1m37s\u001b[0m 10ms/step - accuracy: 0.8678 - loss: 0.3499\n",
                        "Test accuracy: 0.8683\n"
                    ]
                }
            ],
            "source": [
                "test_loss, test_acc = model.evaluate(x_test, y_test)\n",
                "print(f'Test accuracy: {test_acc:.4f}')"
            ]
        },
        {
            "cell_type": "markdown",
            "metadata": {},
            "source": [
                "## Step 7: Save the Model"
            ]
        },
        {
            "cell_type": "code",
            "execution_count": 7,
            "metadata": {},
            "outputs": [
                {
                    "name": "stdout",
                    "output_type": "stream",
                    "text": [
                        "Model saved as 'handwritten_recognition_model.keras'\n"
                    ]
                }
            ],
            "source": [
                "# Save the model weights\n",
                "model.save('handwritten_recognition_model.keras')\n",
                "print(\"Model saved as 'handwritten_recognition_model.keras'\")"
            ]
        },
        {
            "cell_type": "markdown",
            "metadata": {},
            "source": [
                "## Step 8: Visualize Training Results"
            ]
        },
        {
            "cell_type": "code",
            "execution_count": 8,
            "metadata": {},
            "outputs": [
                {
                    "data": {
                        "image/png": "[encoded data removed]",
                        "text/plain": [
                            "<Figure size 1200x400 with 2 Axes>"
                        ]
                    },
                    "metadata": {},
                    "output_type": "display_data"
                }
            ],
            "source": [
                "plt.figure(figsize=(12, 4))\n",
                "\n",
                "# Plot training & validation accuracy values\n",
                "plt.subplot(1, 2, 1)\n",
                "plt.plot(history.history['accuracy'])\n",
                "plt.plot(history.history['val_accuracy'])\n",
                "plt.title('Model accuracy')\n",
                "plt.ylabel('Accuracy')\n",
                "plt.xlabel('Epoch')\n",
                "plt.legend(['Train', 'Validation'], loc='upper left')\n",
                "\n",
                "# Plot training & validation loss values\n",
                "plt.subplot(1, 2, 2)\n",
                "plt.plot(history.history['loss'])\n",
                "plt.plot(history.history['val_loss'])\n",
                "plt.title('Model loss')\n",
                "plt.ylabel('Loss')\n",
                "plt.xlabel('Epoch')\n",
                "plt.legend(['Train', 'Validation'], loc='upper left')\n",
                "\n",
                "plt.show()"
            ]
        },
        {
            "cell_type": "markdown",
            "metadata": {},
            "source": [
                "## Step 9: Predict and Visualize a Test Sample"
            ]
        },
        {
            "cell_type": "code",
            "execution_count": 9,
            "metadata": {},
            "outputs": [
                {
                    "name": "stdout",
                    "output_type": "stream",
                    "text": [
                        "\u001b[1m1/1\u001b[0m \u001b[32m━━━━━━━━━━━━━━━━━━━━\u001b[0m\u001b[37m\u001b[0m \u001b[1m0s\u001b[0m 315ms/step\n"
                    ]
                },
                {
                    "data": {
                        "image/png": "[encoded data removed]",
                        "text/plain": [
                            "<Figure size 640x480 with 1 Axes>"
                        ]
                    },
                    "metadata": {},
                    "output_type": "display_data"
                }
            ],
            "source": [
                "# Make a prediction on a test sample\n",
                "sample = x_test[10].reshape(1, 28, 28, 1)  # Reshape for model input\n",
                "prediction = model.predict(sample)  # Get model predictions\n",
                "predicted_class = np.argmax(prediction) + 1  # Get the predicted class index\n",
                "\n",
                "# Map the predicted class index to the corresponding character\n",
                "# EMNIST 'byclass' mapping: 0-9 (digits), 10-35 (A-Z), 36-61 (a-z)\n",
                "if predicted_class < 10:\n",
                "    predicted_char = str(predicted_class)  # Digits 0-9\n",
                "elif predicted_class < 36:\n",
                "    predicted_char = chr(predicted_class + 55)  # Uppercase letters A-Z\n",
                "else:\n",
                "    predicted_char = chr(predicted_class + 61)  # Lowercase letters a-z\n",
                "\n",
                "# Display the image\n",
                "plt.imshow(x_test[10].reshape(28, 28), cmap='gray')\n",
                "plt.title(f\"Predicted character: {predicted_char}\")\n",
                "plt.axis('off')  # Hide the axes\n",
                "plt.show()"
            ]
        },
        {
            "cell_type": "markdown",
            "metadata": {},
            "source": [
                "## Step 10: Predict and Visualize a Custom Image"
            ]
        },
        {
            "cell_type": "code",
            "execution_count": 10,
            "metadata": {},
            "outputs": [
                {
                    "name": "stdout",
                    "output_type": "stream",
                    "text": [
                        "\u001b[1m1/1\u001b[0m \u001b[32m━━━━━━━━━━━━━━━━━━━━\u001b[0m\u001b[37m\u001b[0m \u001b[1m0s\u001b[0m 339ms/step\n"
                    ]
                },
                {
                    "data": {
                        "image/png": "[encoded data removed]",
                        "text/plain": [
                            "<Figure size 640x480 with 1 Axes>"
                        ]
                    },
                    "metadata": {},
                    "output_type": "display_data"
                }
            ],
            "source": [
                "from tensorflow.keras.preprocessing import image\n",
                "from PIL import Image, ImageOps\n",
                "import tensorflow as tf\n",
                "\n",
                "# Load the model\n",
                "model = tf.keras.models.load_model('handwritten_recognition_model.keras')\n",
                "\n",
                "# Load the custom image\n",
                "image_path = \"images/Y.png\"  # Replace with the path to your image\n",
                "img = Image.open(image_path).convert('L')  # Convert to grayscale\n",
                "\n",
                "# Invert the colors to match EMNIST format\n",
                "img = ImageOps.invert(img)\n",
                "\n",
                "# Preprocess the image\n",
                "img = img.resize((28, 28))  # Resize to 28x28\n",
                "img_array = image.img_to_array(img)  # Convert to numpy array\n",
                "img_array = img_array.reshape((28, 28))  # Reshape to (28, 28)\n",
                "img_array = img_array / 255.0  # Normalize pixel values to [0, 1]\n",
                "img_array = img_array.reshape((1, 28, 28, 1))  # Reshape to (1, 28, 28, 1)\n",
                "\n",
                "# Make a prediction\n",
                "prediction = model.predict(img_array)\n",
                "predicted_class = np.argmax(prediction) + 1  # Get the predicted class index\n",
                "\n",
                "# Map the predicted class index to the corresponding character\n",
                "# EMNIST 'byclass' mapping: 0-9 (digits), 10-35 (A-Z), 36-61 (a-z)\n",
                "if predicted_class < 10:\n",
                "    predicted_char = str(predicted_class)  # Digits 0-9\n",
                "elif predicted_class < 36:\n",
                "    predicted_char = chr(predicted_class + 55)  # Uppercase letters A-Z\n",
                "else:\n",
                "    predicted_char = chr(predicted_class + 61)  # Lowercase letters a-z\n",
                "\n",
                "# Display the image and prediction\n",
                "plt.imshow(img_array.reshape(28, 28), cmap='gray')\n",
                "plt.title(f\"Predicted character: {predicted_char}\")\n",
                "plt.axis('off')\n",
                "plt.show()"
            ]
        }
    ],
    "metadata": {
        "kernelspec": {
            "display_name": ".venv",
            "language": "python",
            "name": "python3"
        },
        "language_info": {
            "codemirror_mode": {
                "name": "ipython",
                "version": 3
            },
            "file_extension": ".py",
            "mimetype": "text/x-python",
            "name": "python",
            "nbconvert_exporter": "python",
            "pygments_lexer": "ipython3",
            "version": "3.11.9"
        }
    },
    "nbformat": 4,
    "nbformat_minor": 4
}
